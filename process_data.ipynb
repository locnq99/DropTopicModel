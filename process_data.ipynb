{
 "cells": [
  {
   "cell_type": "code",
   "execution_count": 9,
   "id": "0869de74-b4ea-4552-a1fd-bd721052235b",
   "metadata": {},
   "outputs": [],
   "source": [
    "import numpy as np \n",
    "import pickle \n",
    "from tqdm import tqdm \n",
    "import os\n",
    "from scipy import sparse \n",
    "import gc"
   ]
  },
  {
   "cell_type": "code",
   "execution_count": 10,
   "id": "c02ce798-9024-4bf9-8954-9b1e15d21bec",
   "metadata": {},
   "outputs": [],
   "source": [
    "path_in = '/data/datn/final_data/holdout_SOLA-TPS-idrop-nograd-nobonus/SOLA-TPS-idrop-nograd-nobonus/dataset/6-statictarget-datasets/'\n",
    "path_out = '/data/datn/final_data/holdout_data/'"
   ]
  },
  {
   "cell_type": "code",
   "execution_count": 11,
   "id": "6ba014b5-ff79-495d-b381-abbdbad63f60",
   "metadata": {},
   "outputs": [
    {
     "data": {
      "text/plain": [
       "['Yahoo',\n",
       " 'TMN',\n",
       " 'TMNtitle',\n",
       " 'Grolier',\n",
       " 'Agnews-title',\n",
       " 'NYtimes',\n",
       " 'Agnews',\n",
       " 'Twitter',\n",
       " '20newgroups']"
      ]
     },
     "execution_count": 11,
     "metadata": {},
     "output_type": "execute_result"
    }
   ],
   "source": [
    "lst_dataset = os.listdir(path_in)\n",
    "lst_dataset"
   ]
  },
  {
   "cell_type": "code",
   "execution_count": 12,
   "id": "871f3cea-7f8d-4e50-ad14-cd639ce68dc7",
   "metadata": {},
   "outputs": [],
   "source": [
    "def convert_to_bow(path_bow, vocab_len):\n",
    "    with open(path_bow, 'r') as f:\n",
    "        data = f.read().splitlines()\n",
    "    dense_vector = np.zeros((len(data), vocab_len), dtype = np.int32)\n",
    "    for i in tqdm(range(len(data))):\n",
    "        terms = data[i].split()[1:]\n",
    "        for j in range(len(terms)):\n",
    "            idx, cnt = terms[j].split(':')\n",
    "            dense_vector[i][int(idx)] = int(cnt)\n",
    "    sparse_vector = sparse.csr_matrix(dense_vector)\n",
    "    return sparse_vector"
   ]
  },
  {
   "cell_type": "code",
   "execution_count": 13,
   "id": "8cb3748d-df7f-4493-9f87-28451875ad21",
   "metadata": {},
   "outputs": [],
   "source": [
    "def convert_prior_vector(prior):\n",
    "    prior_vector = []\n",
    "    for i in tqdm(range(len(prior))):\n",
    "        prior_vector.append(prior[i].split())\n",
    "    prior_vector = np.array(prior_vector, dtype = np.float64)\n",
    "    return prior_vector"
   ]
  },
  {
   "cell_type": "code",
   "execution_count": 14,
   "id": "3016abf0-211a-431e-b5e3-95a300dd98ef",
   "metadata": {},
   "outputs": [],
   "source": [
    "def write_file(data, path, is_pickle = True):\n",
    "    if is_pickle: \n",
    "        with open(path,'wb') as f:\n",
    "            pickle.dump(data, f, protocol = pickle.HIGHEST_PROTOCOL)\n",
    "    else:\n",
    "        with open(path,'w') as f:\n",
    "            f.write('\\n'.join(data))\n",
    "def read_file(path):\n",
    "    with open(path,'r') as f:\n",
    "        data = f.read().splitlines()\n",
    "    return data"
   ]
  },
  {
   "cell_type": "code",
   "execution_count": 15,
   "id": "c92e930f-a6f9-4f6d-aa00-d3a155437561",
   "metadata": {},
   "outputs": [],
   "source": [
    "def process_data(path_in, path_out, dataset):\n",
    "    lst_file = os.listdir(path_in + dataset)\n",
    "    # create path dataset out \n",
    "    if not os.path.exists(path_out + dataset):\n",
    "        os.mkdir(path_out + dataset)\n",
    "    vocab = read_file(path_in + dataset + '/vocab.txt')\n",
    "    setting = read_file(path_in + dataset + '/setting.txt')\n",
    "    write_file(data = vocab,\n",
    "              path = path_out + dataset + '/vocab.txt',\n",
    "              is_pickle = False)\n",
    "    write_file(data = setting,\n",
    "              path = path_out + dataset + '/setting.txt',\n",
    "              is_pickle = False)\n",
    "    \n",
    "    for f in lst_file: \n",
    "        if 'train' in f: \n",
    "            sparse_vector = convert_to_bow(path_bow = path_in + dataset + '/' + f,\n",
    "                                          vocab_len = len(vocab))\n",
    "            write_file(data = sparse_vector, \n",
    "                      path = path_out + dataset + '/' + f.split('.')[0] + '.pkl',\n",
    "                      is_pickle = True)\n",
    "            del sparse_vector\n",
    "            _ = gc.collect()\n",
    "        elif 'prior' in f:\n",
    "            prior = read_file(path_in + dataset + '/' + f)\n",
    "            prior = convert_prior_vector(prior)\n",
    "            write_file(data = prior,\n",
    "                      path = path_out + dataset + '/' + f.split('.')[0] + '.pkl',\n",
    "                      is_pickle = True)\n",
    "            del prior\n",
    "        elif 'test' in f:\n",
    "            test = read_file(path_in + dataset + '/' + f)\n",
    "            write_file(data = test,\n",
    "                      path = path_out + dataset + '/' + f.split('.')[0] + '.txt',\n",
    "                      is_pickle = False)\n",
    "            _ = gc.collect()"
   ]
  },
  {
   "cell_type": "code",
   "execution_count": 16,
   "id": "8810be63-07cc-408f-82ab-53750b3423a9",
   "metadata": {},
   "outputs": [
    {
     "name": "stdout",
     "output_type": "stream",
     "text": [
      "Process dataset:  TMN\n"
     ]
    },
    {
     "name": "stderr",
     "output_type": "stream",
     "text": [
      "100%|██████████████████████████████████| 11599/11599 [00:00<00:00, 77336.94it/s]\n",
      "100%|██████████████████████████████████| 31604/31604 [00:00<00:00, 40827.08it/s]\n"
     ]
    },
    {
     "name": "stdout",
     "output_type": "stream",
     "text": [
      "Process dataset:  Agnews\n"
     ]
    },
    {
     "name": "stderr",
     "output_type": "stream",
     "text": [
      "100%|██████████████████████████████████| 32483/32483 [00:00<00:00, 70872.71it/s]\n",
      "100%|████████████████████████████████| 110000/110000 [00:03<00:00, 33959.42it/s]\n"
     ]
    },
    {
     "name": "stdout",
     "output_type": "stream",
     "text": [
      "Process dataset:  20newgroups\n"
     ]
    },
    {
     "name": "stderr",
     "output_type": "stream",
     "text": [
      "100%|██████████████████████████████████| 24792/24792 [00:00<00:00, 73597.82it/s]\n",
      "100%|██████████████████████████████████| 17846/17846 [00:01<00:00, 14684.64it/s]\n"
     ]
    }
   ],
   "source": [
    "# lst_dataset_use = ['Agnews', 'Agnews-title','TMN','TMNtitle',\\\n",
    "#                       'Yahoo', 'Grolier']\n",
    "# lst_dataset_use = ['20newgroups']\n",
    "lst_dataset_use = ['Agnews', 'TMN','20newgroups']\n",
    "for dataset in lst_dataset:\n",
    "    if dataset in lst_dataset_use:\n",
    "        print('Process dataset: ', dataset)\n",
    "        process_data(path_in, path_out, dataset)"
   ]
  },
  {
   "cell_type": "code",
   "execution_count": null,
   "id": "97041a17-9013-42cd-8c88-568aeb280b17",
   "metadata": {},
   "outputs": [],
   "source": []
  },
  {
   "cell_type": "markdown",
   "id": "5e63c9f6-4b54-4069-b904-1a7e04011e4b",
   "metadata": {},
   "source": [
    "# get docs embedding"
   ]
  },
  {
   "cell_type": "code",
   "execution_count": 17,
   "id": "582d0baf-d49c-4be6-aa2f-17a91a9a990b",
   "metadata": {},
   "outputs": [],
   "source": [
    "import pickle \n",
    "import numpy as np \n",
    "import os \n",
    "from tqdm import tqdm \n",
    "import gc\n",
    "from scipy import sparse "
   ]
  },
  {
   "cell_type": "code",
   "execution_count": 18,
   "id": "af2f6673-e111-4ff0-b51a-c256fd56ec98",
   "metadata": {},
   "outputs": [],
   "source": [
    "path_folder = '/data/datn/final_data/holdout_data/'\n",
    "lst_data = ['Agnews', 'TMN','20newgroups']\n",
    "# lst_data = ['20newgroups']\n",
    "lst_path = [path_folder + f for f in lst_data]"
   ]
  },
  {
   "cell_type": "code",
   "execution_count": 23,
   "id": "6c2c1937-12c3-43d4-9394-de7e32aaf00a",
   "metadata": {},
   "outputs": [],
   "source": [
    "def read_data(path):\n",
    "    with open(path, 'rb') as f:\n",
    "        data = pickle.load(f)\n",
    "    return data\n",
    "def get_docs_vector(prior, bows):\n",
    "    docs_vector = []\n",
    "    for i in tqdm(range(bows.shape[0])):\n",
    "        bow = bows[i].toarray().squeeze()\n",
    "        idx = bow.nonzero()[0]\n",
    "        cnt = bow[idx]\n",
    "        word_idx_appear = []\n",
    "        for j in range(len(idx)):\n",
    "            word_idx_appear += [idx[j]]* cnt[j]\n",
    "        if len(word_idx_appear) == 0:\n",
    "            vector = np.zeros(200)\n",
    "        else:\n",
    "            vector = prior[word_idx_appear]\n",
    "            vector = np.mean(vector, axis = 0)\n",
    "        docs_vector.append(vector)\n",
    "    docs_vector = np.array(docs_vector)\n",
    "    return docs_vector\n",
    "\n",
    "def write_data(path, data):\n",
    "    with open(path, 'wb') as f:\n",
    "        pickle.dump(data, f, protocol = pickle.HIGHEST_PROTOCOL)\n",
    "        \n",
    "def process_docs_vector(path):\n",
    "    prior = read_data(path + '/prior.pkl')\n",
    "    bows = read_data(path + '/train.pkl')\n",
    "    docs_vector = get_docs_vector(prior, bows)\n",
    "    write_data(path + '/docs_vector.pkl',docs_vector)\n",
    "    del prior, bows, docs_vector\n",
    "    _ = gc.collect()"
   ]
  },
  {
   "cell_type": "code",
   "execution_count": 24,
   "id": "d0010f42-200c-41da-b7ad-e51ea9c8929c",
   "metadata": {},
   "outputs": [
    {
     "name": "stdout",
     "output_type": "stream",
     "text": [
      "process data: /data/datn/final_data/holdout_data/Agnews\n"
     ]
    },
    {
     "name": "stderr",
     "output_type": "stream",
     "text": [
      "100%|█████████████████████████████████| 110000/110000 [00:16<00:00, 6762.61it/s]\n"
     ]
    },
    {
     "name": "stdout",
     "output_type": "stream",
     "text": [
      "process data: /data/datn/final_data/holdout_data/TMN\n"
     ]
    },
    {
     "name": "stderr",
     "output_type": "stream",
     "text": [
      "100%|███████████████████████████████████| 31604/31604 [00:03<00:00, 8764.54it/s]\n"
     ]
    },
    {
     "name": "stdout",
     "output_type": "stream",
     "text": [
      "process data: /data/datn/final_data/holdout_data/20newgroups\n"
     ]
    },
    {
     "name": "stderr",
     "output_type": "stream",
     "text": [
      "100%|███████████████████████████████████| 17846/17846 [00:03<00:00, 5551.83it/s]\n"
     ]
    }
   ],
   "source": [
    "for path_data in lst_path:\n",
    "    print('process data:', path_data)\n",
    "    process_docs_vector(path_data)"
   ]
  },
  {
   "cell_type": "code",
   "execution_count": null,
   "id": "bb7be86c-4042-4ebd-a7c5-944bd3656cf5",
   "metadata": {},
   "outputs": [],
   "source": []
  }
 ],
 "metadata": {
  "kernelspec": {
   "display_name": "Python 3",
   "language": "python",
   "name": "python3"
  },
  "language_info": {
   "codemirror_mode": {
    "name": "ipython",
    "version": 3
   },
   "file_extension": ".py",
   "mimetype": "text/x-python",
   "name": "python",
   "nbconvert_exporter": "python",
   "pygments_lexer": "ipython3",
   "version": "3.10.7"
  },
  "vscode": {
   "interpreter": {
    "hash": "916dbcbb3f70747c44a77c7bcd40155683ae19c65e1c03b4aa3499c5328201f1"
   }
  }
 },
 "nbformat": 4,
 "nbformat_minor": 5
}
